{
 "cells": [
  {
   "cell_type": "markdown",
   "metadata": {},
   "source": [
    "# Voorspellen van de bloeddruk op basis van gewicht en leeftijd"
   ]
  },
  {
   "cell_type": "code",
   "execution_count": 85,
   "metadata": {
    "collapsed": true
   },
   "outputs": [],
   "source": [
    "%matplotlib inline\n",
    "import matplotlib.pyplot as plt\n",
    "import numpy as np\n",
    "import pandas as pd\n",
    "from matplotlib import style\n",
    "from sklearn import datasets, linear_model"
   ]
  },
  {
   "cell_type": "code",
   "execution_count": 86,
   "metadata": {},
   "outputs": [],
   "source": [
    "# Inlezen van de dataset\n",
    "data_bd = pd.read_csv('bloeddruk.csv')"
   ]
  },
  {
   "cell_type": "code",
   "execution_count": 87,
   "metadata": {},
   "outputs": [
    {
     "name": "stdout",
     "output_type": "stream",
     "text": [
      "(11, 3)\n"
     ]
    }
   ],
   "source": [
    "# Dimensie van de dataset\n",
    "print(data_bd.shape)"
   ]
  },
  {
   "cell_type": "code",
   "execution_count": 88,
   "metadata": {},
   "outputs": [
    {
     "data": {
      "text/html": [
       "<div>\n",
       "<table border=\"1\" class=\"dataframe\">\n",
       "  <thead>\n",
       "    <tr style=\"text-align: right;\">\n",
       "      <th></th>\n",
       "      <th>leeftijd</th>\n",
       "      <th>gewicht</th>\n",
       "      <th>bloeddruk</th>\n",
       "    </tr>\n",
       "  </thead>\n",
       "  <tbody>\n",
       "    <tr>\n",
       "      <th>0</th>\n",
       "      <td>52</td>\n",
       "      <td>78</td>\n",
       "      <td>136</td>\n",
       "    </tr>\n",
       "    <tr>\n",
       "      <th>1</th>\n",
       "      <td>59</td>\n",
       "      <td>83</td>\n",
       "      <td>143</td>\n",
       "    </tr>\n",
       "    <tr>\n",
       "      <th>2</th>\n",
       "      <td>67</td>\n",
       "      <td>88</td>\n",
       "      <td>153</td>\n",
       "    </tr>\n",
       "    <tr>\n",
       "      <th>3</th>\n",
       "      <td>73</td>\n",
       "      <td>96</td>\n",
       "      <td>162</td>\n",
       "    </tr>\n",
       "    <tr>\n",
       "      <th>4</th>\n",
       "      <td>64</td>\n",
       "      <td>89</td>\n",
       "      <td>161</td>\n",
       "    </tr>\n",
       "    <tr>\n",
       "      <th>5</th>\n",
       "      <td>74</td>\n",
       "      <td>103</td>\n",
       "      <td>171</td>\n",
       "    </tr>\n",
       "    <tr>\n",
       "      <th>6</th>\n",
       "      <td>54</td>\n",
       "      <td>85</td>\n",
       "      <td>137</td>\n",
       "    </tr>\n",
       "    <tr>\n",
       "      <th>7</th>\n",
       "      <td>61</td>\n",
       "      <td>85</td>\n",
       "      <td>149</td>\n",
       "    </tr>\n",
       "    <tr>\n",
       "      <th>8</th>\n",
       "      <td>65</td>\n",
       "      <td>94</td>\n",
       "      <td>162</td>\n",
       "    </tr>\n",
       "    <tr>\n",
       "      <th>9</th>\n",
       "      <td>46</td>\n",
       "      <td>76</td>\n",
       "      <td>128</td>\n",
       "    </tr>\n",
       "    <tr>\n",
       "      <th>10</th>\n",
       "      <td>72</td>\n",
       "      <td>98</td>\n",
       "      <td>166</td>\n",
       "    </tr>\n",
       "  </tbody>\n",
       "</table>\n",
       "</div>"
      ],
      "text/plain": [
       "    leeftijd  gewicht  bloeddruk\n",
       "0         52       78        136\n",
       "1         59       83        143\n",
       "2         67       88        153\n",
       "3         73       96        162\n",
       "4         64       89        161\n",
       "5         74      103        171\n",
       "6         54       85        137\n",
       "7         61       85        149\n",
       "8         65       94        162\n",
       "9         46       76        128\n",
       "10        72       98        166"
      ]
     },
     "execution_count": 88,
     "metadata": {},
     "output_type": "execute_result"
    }
   ],
   "source": [
    "# Toon de eerste rijen van de dataset\n",
    "data_bd.head(11)"
   ]
  },
  {
   "cell_type": "code",
   "execution_count": 89,
   "metadata": {},
   "outputs": [
    {
     "data": {
      "text/html": [
       "<div>\n",
       "<table border=\"1\" class=\"dataframe\">\n",
       "  <thead>\n",
       "    <tr style=\"text-align: right;\">\n",
       "      <th></th>\n",
       "      <th>leeftijd</th>\n",
       "      <th>gewicht</th>\n",
       "      <th>bloeddruk</th>\n",
       "    </tr>\n",
       "  </thead>\n",
       "  <tbody>\n",
       "    <tr>\n",
       "      <th>count</th>\n",
       "      <td>11.000000</td>\n",
       "      <td>11.000000</td>\n",
       "      <td>11.000000</td>\n",
       "    </tr>\n",
       "    <tr>\n",
       "      <th>mean</th>\n",
       "      <td>62.454545</td>\n",
       "      <td>88.636364</td>\n",
       "      <td>151.636364</td>\n",
       "    </tr>\n",
       "    <tr>\n",
       "      <th>std</th>\n",
       "      <td>9.114424</td>\n",
       "      <td>8.417514</td>\n",
       "      <td>14.087390</td>\n",
       "    </tr>\n",
       "    <tr>\n",
       "      <th>min</th>\n",
       "      <td>46.000000</td>\n",
       "      <td>76.000000</td>\n",
       "      <td>128.000000</td>\n",
       "    </tr>\n",
       "    <tr>\n",
       "      <th>25%</th>\n",
       "      <td>56.500000</td>\n",
       "      <td>84.000000</td>\n",
       "      <td>140.000000</td>\n",
       "    </tr>\n",
       "    <tr>\n",
       "      <th>50%</th>\n",
       "      <td>64.000000</td>\n",
       "      <td>88.000000</td>\n",
       "      <td>153.000000</td>\n",
       "    </tr>\n",
       "    <tr>\n",
       "      <th>75%</th>\n",
       "      <td>69.500000</td>\n",
       "      <td>95.000000</td>\n",
       "      <td>162.000000</td>\n",
       "    </tr>\n",
       "    <tr>\n",
       "      <th>max</th>\n",
       "      <td>74.000000</td>\n",
       "      <td>103.000000</td>\n",
       "      <td>171.000000</td>\n",
       "    </tr>\n",
       "  </tbody>\n",
       "</table>\n",
       "</div>"
      ],
      "text/plain": [
       "        leeftijd     gewicht   bloeddruk\n",
       "count  11.000000   11.000000   11.000000\n",
       "mean   62.454545   88.636364  151.636364\n",
       "std     9.114424    8.417514   14.087390\n",
       "min    46.000000   76.000000  128.000000\n",
       "25%    56.500000   84.000000  140.000000\n",
       "50%    64.000000   88.000000  153.000000\n",
       "75%    69.500000   95.000000  162.000000\n",
       "max    74.000000  103.000000  171.000000"
      ]
     },
     "execution_count": 89,
     "metadata": {},
     "output_type": "execute_result"
    }
   ],
   "source": [
    "# Statistische eigenschappen van de dataset\n",
    "data_bd.describe()"
   ]
  },
  {
   "cell_type": "code",
   "execution_count": 90,
   "metadata": {},
   "outputs": [
    {
     "data": {
      "text/html": [
       "<div>\n",
       "<table border=\"1\" class=\"dataframe\">\n",
       "  <thead>\n",
       "    <tr style=\"text-align: right;\">\n",
       "      <th></th>\n",
       "      <th>leeftijd</th>\n",
       "      <th>gewicht</th>\n",
       "      <th>bloeddruk</th>\n",
       "    </tr>\n",
       "  </thead>\n",
       "  <tbody>\n",
       "    <tr>\n",
       "      <th>leeftijd</th>\n",
       "      <td>1.000000</td>\n",
       "      <td>0.936927</td>\n",
       "      <td>0.955477</td>\n",
       "    </tr>\n",
       "    <tr>\n",
       "      <th>gewicht</th>\n",
       "      <td>0.936927</td>\n",
       "      <td>1.000000</td>\n",
       "      <td>0.947494</td>\n",
       "    </tr>\n",
       "    <tr>\n",
       "      <th>bloeddruk</th>\n",
       "      <td>0.955477</td>\n",
       "      <td>0.947494</td>\n",
       "      <td>1.000000</td>\n",
       "    </tr>\n",
       "  </tbody>\n",
       "</table>\n",
       "</div>"
      ],
      "text/plain": [
       "           leeftijd   gewicht  bloeddruk\n",
       "leeftijd   1.000000  0.936927   0.955477\n",
       "gewicht    0.936927  1.000000   0.947494\n",
       "bloeddruk  0.955477  0.947494   1.000000"
      ]
     },
     "execution_count": 90,
     "metadata": {},
     "output_type": "execute_result"
    }
   ],
   "source": [
    "# Bereken de onderlingen correlatiecoëfficiënten\n",
    "data_bd.corr()"
   ]
  },
  {
   "cell_type": "code",
   "execution_count": 91,
   "metadata": {},
   "outputs": [
    {
     "data": {
      "text/plain": [
       "<matplotlib.axes._subplots.AxesSubplot at 0x7f4894b40e10>"
      ]
     },
     "execution_count": 91,
     "metadata": {},
     "output_type": "execute_result"
    },
    {
     "data": {
      "image/png": "[encoded data removed]",
      "text/plain": [
       "<matplotlib.figure.Figure at 0x7f4894f8f518>"
      ]
     },
     "metadata": {},
     "output_type": "display_data"
    }
   ],
   "source": [
    "# Scatterplot tussen gewicht en bloeddruk\n",
    "data_bd.plot(kind='scatter',x='gewicht',y='bloeddruk',title='Bloeddruk als functie van het gewicht',grid=True,s=100,color='orange')"
   ]
  },
  {
   "cell_type": "code",
   "execution_count": 92,
   "metadata": {},
   "outputs": [
    {
     "data": {
      "text/plain": [
       "<matplotlib.axes._subplots.AxesSubplot at 0x7f48953fa898>"
      ]
     },
     "execution_count": 92,
     "metadata": {},
     "output_type": "execute_result"
    },
    {
     "data": {
      "image/png": "[encoded data removed]",
      "text/plain": [
       "<matplotlib.figure.Figure at 0x7f48954991d0>"
      ]
     },
     "metadata": {},
     "output_type": "display_data"
    }
   ],
   "source": [
    "# Scatterplot tussen leeftijd en bloeddruk\n",
    "data_bd.plot(kind='scatter',x='leeftijd',y='bloeddruk',title='Bloeddruk als functie van de leeftijd',grid=True,s=100,color='orange')"
   ]
  },
  {
   "cell_type": "code",
   "execution_count": 106,
   "metadata": {},
   "outputs": [
    {
     "name": "stdout",
     "output_type": "stream",
     "text": [
      "['leeftijd', 'gewicht']\n",
      "[[52]\n",
      " [59]\n",
      " [67]\n",
      " [73]\n",
      " [64]\n",
      " [74]\n",
      " [54]\n",
      " [61]\n",
      " [65]\n",
      " [46]\n",
      " [72]]\n"
     ]
    }
   ],
   "source": [
    "# Opsplitsen in features en targets\n",
    "features = list(data_bd.columns[:2])\n",
    "print(features)\n",
    "X = data_bd[features].values\n",
    "y= data_bd['bloeddruk'].values\n",
    "#-----------------\n",
    "#alternatieve manier manier voor het opsplitsen in features en targets\n",
    "#X = data_bd.ix[:,1:2].copy()  #features worden in X gestopt\n",
    "#y = data_bd.ix[:,2:3].copy()  #targets worden in Y gestopt\n",
    "#-----------------\n",
    "\n",
    "print(X[:,0].reshape(-1,1))"
   ]
  },
  {
   "cell_type": "code",
   "execution_count": 113,
   "metadata": {},
   "outputs": [
    {
     "name": "stdout",
     "output_type": "stream",
     "text": [
      "teta0=  [ 59.40347997]\n",
      "teta1= [[ 1.47680018]]\n"
     ]
    },
    {
     "data": {
      "image/png": "[encoded data removed]",
      "text/plain": [
       "<matplotlib.figure.Figure at 0x7f4894cce400>"
      ]
     },
     "metadata": {},
     "output_type": "display_data"
    }
   ],
   "source": [
    "# Train een linear regression model tussen leeftijd en bloeddruk\n",
    "\n",
    "leeftijden = X[:,0].reshape(-1,1)\n",
    "\n",
    "clf_leeftijd = linear_model.LinearRegression()\n",
    "clf_leeftijd.fit(leeftijden,y.reshape(-1,1))\n",
    "data_bd.plot(kind='scatter',x='leeftijd',y='bloeddruk',s=100,grid=True,color='orange')\n",
    "plt.plot(leeftijden,clf_leeftijd.predict(leeftijden), color='blue',linewidth=3)\n",
    "print('teta0= ',clf_leeftijd.intercept_)\n",
    "print('teta1=' ,clf_leeftijd.coef_)"
   ]
  },
  {
   "cell_type": "code",
   "execution_count": 139,
   "metadata": {},
   "outputs": [
    {
     "name": "stdout",
     "output_type": "stream",
     "text": [
      "Voorspelde bloeddruk=  [[ 165.73309258]]\n",
      "teta0=  [ 59.40347997]\n",
      "teta1= [[ 1.47680018]]\n",
      "\n",
      "bloeddruk = 1.47680017509  * leeftijd + 59.4034799737\n"
     ]
    }
   ],
   "source": [
    "# Voorspel de bloeddruk van een persoon met een leeftijd van 72 jaar\n",
    "print('Voorspelde bloeddruk= ',clf_leeftijd.predict(72))\n",
    "print('teta0= ',clf_leeftijd.intercept_)\n",
    "print('teta1=' ,clf_leeftijd.coef_)\n",
    "print()\n",
    "print('bloeddruk =', clf_leeftijd.coef_[0,0] ,' * leeftijd +', clf_leeftijd.intercept_[0])\n"
   ]
  },
  {
   "cell_type": "code",
   "execution_count": 146,
   "metadata": {},
   "outputs": [
    {
     "name": "stdout",
     "output_type": "stream",
     "text": [
      "teta0=  [ 11.08506543]\n",
      "teta1= [[ 1.58570695]]\n",
      "\n",
      "bloeddruk = 1.58570695407 * gewicht + 11.0850654349\n"
     ]
    },
    {
     "data": {
      "image/png": "[encoded data removed]",
      "text/plain": [
       "<matplotlib.figure.Figure at 0x7f489499fdd8>"
      ]
     },
     "metadata": {},
     "output_type": "display_data"
    }
   ],
   "source": [
    "# Train een linear regression model tussen gewicht en bloeddruk\n",
    "\n",
    "gewichten = X[:,1].reshape(-1,1)\n",
    "\n",
    "clf_gewicht = linear_model.LinearRegression()\n",
    "clf_gewicht.fit(gewichten,y.reshape(-1,1))\n",
    "data_bd.plot(kind='scatter',x='gewicht',y='bloeddruk',s=100,grid=True,color='orange')\n",
    "plt.plot(gewichten,clf_gewicht.predict(gewichten), color='blue',linewidth=3)\n",
    "print('teta0= ',clf_gewicht.intercept_)\n",
    "print('teta1=' ,clf_gewicht.coef_)\n",
    "print()\n",
    "print('bloeddruk =', clf_gewicht.coef_[0,0] ,'* gewicht +', clf_gewicht.intercept_[0])"
   ]
  },
  {
   "cell_type": "code",
   "execution_count": 147,
   "metadata": {},
   "outputs": [
    {
     "name": "stdout",
     "output_type": "stream",
     "text": [
      "Voorspelde bloeddruk=  [[ 155.38439826]]\n",
      "teta0=  [ 11.08506543]\n",
      "teta1= [[ 1.58570695]]\n",
      "bloeddruk = 1.58570695407 * gewicht + 11.0850654349\n"
     ]
    }
   ],
   "source": [
    "# Voorspel de bloeddruk van een persoon met een gewicht van 91 kg\n",
    "print('Voorspelde bloeddruk= ',clf_gewicht.predict(91))\n",
    "print('teta0= ',clf_gewicht.intercept_)\n",
    "print('teta1=' ,clf_gewicht.coef_)\n",
    "\n",
    "print('bloeddruk =', clf_gewicht.coef_[0,0] ,'* gewicht +', clf_gewicht.intercept_[0])"
   ]
  },
  {
   "cell_type": "code",
   "execution_count": 148,
   "metadata": {},
   "outputs": [
    {
     "name": "stdout",
     "output_type": "stream",
     "text": [
      "teta0=  34.6264884771\n",
      "teta1= 0.857083438159\n",
      "teta2= 0.716197235627\n",
      "\n",
      "bloeddruk = 0.857083438159 * leeftijd + 0.716197235627 * gewicht + 34.6264884771\n"
     ]
    }
   ],
   "source": [
    "# Train een linear regression model tussen alle features (gewicht en leeftijd) en de bloeddruk\n",
    "\n",
    "clf = linear_model.LinearRegression()\n",
    "clf.fit(X,y)\n",
    "\n",
    "print('teta0= ',clf.intercept_)\n",
    "print('teta1=' ,clf.coef_[0])\n",
    "print('teta2=' ,clf.coef_[1])\n",
    "print()\n",
    "print('bloeddruk =', clf.coef_[0] ,'* leeftijd +', clf.coef_[1] ,'* gewicht +',clf.intercept_)"
   ]
  },
  {
   "cell_type": "code",
   "execution_count": 156,
   "metadata": {},
   "outputs": [
    {
     "name": "stdout",
     "output_type": "stream",
     "text": [
      "Voorspelde bloeddruk=  [ 116.78945326]\n",
      "\n",
      "bloeddruk = 0.857083438159 * leeftijd + 0.716197235627 * gewicht + 34.6264884771\n"
     ]
    }
   ],
   "source": [
    "# Voorspel de bloeddruk van iemand met een leeftijd van 24 jaar en een gewicht van 86kg\n",
    "\n",
    "X_test = np.array([24,86]).reshape(1, -1)\n",
    "\n",
    "print('Voorspelde bloeddruk= ',clf.predict(X_test))\n",
    "print()\n",
    "print('bloeddruk =', clf.coef_[0] ,'* leeftijd +', clf.coef_[1] ,'* gewicht +',clf.intercept_)"
   ]
  },
  {
   "cell_type": "code",
   "execution_count": null,
   "metadata": {
    "collapsed": true
   },
   "outputs": [],
   "source": []
  }
 ],
 "metadata": {
  "kernelspec": {
   "display_name": "Python 3",
   "language": "python",
   "name": "python3"
  },
  "language_info": {
   "codemirror_mode": {
    "name": "ipython",
    "version": 3
   },
   "file_extension": ".py",
   "mimetype": "text/x-python",
   "name": "python",
   "nbconvert_exporter": "python",
   "pygments_lexer": "ipython3",
   "version": "3.6.8"
  }
 },
 "nbformat": 4,
 "nbformat_minor": 1
}
